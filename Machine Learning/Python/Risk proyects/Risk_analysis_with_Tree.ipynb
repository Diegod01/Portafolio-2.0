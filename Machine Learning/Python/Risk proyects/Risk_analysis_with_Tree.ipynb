{
  "nbformat": 4,
  "nbformat_minor": 0,
  "metadata": {
    "colab": {
      "name": "Risk_analysis_with_Tree.ipynb",
      "provenance": [],
      "collapsed_sections": []
    },
    "kernelspec": {
      "name": "python3",
      "display_name": "Python 3"
    },
    "language_info": {
      "name": "python"
    }
  },
  "cells": [
    {
      "cell_type": "code",
      "execution_count": null,
      "metadata": {
        "id": "P9xYnzjZIzHK"
      },
      "outputs": [],
      "source": [
        "from sklearn import tree"
      ]
    },
    {
      "cell_type": "code",
      "source": [
        "clf = tree.DecisionTreeClassifier()"
      ],
      "metadata": {
        "id": "pdoBWUawI4VR"
      },
      "execution_count": null,
      "outputs": []
    },
    {
      "cell_type": "code",
      "source": [
        "X = ((1, 2, 1), (2, 1, 0), (0, 2, 0), (1, 1, 1), (2, 1, 1), (0, 0, 0), (1, 0, 1), (0, 1, 2), (2, 2, 2), (2, 1, 2), (1, 2, 2))"
      ],
      "metadata": {
        "id": "UEfRKl8hI4Xy"
      },
      "execution_count": null,
      "outputs": []
    },
    {
      "cell_type": "markdown",
      "source": [
        "El primer número representa si es una cantidad alta o baja la solicitada. \n",
        "0 = es baja, 1 = es media, 2 = es alta\n",
        "\n",
        "El segundo lugar representa si el cliente demora en devolver el préstamo o lo devuelve a tiempo. 0 = poco tiempo, 1 = tiempo intermedio, 2 = mucho tiempo\n",
        "\n",
        "El tercer lugar representa el historial crediticio del cliente en este banco o en otros (en caso de que el cliente sea nuevo), 0 = buen historial, 1 = historia intermedio, 2 = mal historial"
      ],
      "metadata": {
        "id": "pV-qexEeK4pB"
      }
    },
    {
      "cell_type": "code",
      "source": [
        "Y = ['prestar','prestar','prestar','prestar','no prestar','prestar','no prestar','no prestar','no prestar','no prestar','no prestar']"
      ],
      "metadata": {
        "id": "usJYHT--I4bT"
      },
      "execution_count": null,
      "outputs": []
    },
    {
      "cell_type": "code",
      "source": [
        "clf = clf.fit(X, Y)"
      ],
      "metadata": {
        "id": "ogU--TqgIz_Q"
      },
      "execution_count": null,
      "outputs": []
    },
    {
      "cell_type": "markdown",
      "source": [
        "Ya tenemos una base de datos dónde hemos prestado y no prestado a clientes anteriores   
 Supongamos que un nuevo cliente llega a solicitar un préstamo, nuestro modelo va a evaluar si es riesgoso y si deberíamos darle o no el préstamo."
      ],
      "metadata": {
        "id": "inucAvukjNaX"
      }
    },
    {
      "cell_type": "code",
      "source": [
        "dato1 = [1, 0, 0]"
      ],
      "metadata": {
        "id": "pE-OZ-3NI0Ez"
      },
      "execution_count": null,
      "outputs": []
    },
    {
      "cell_type": "markdown",
      "source": [
        "Colocamos que pide intermedio, devuelve a tiempo y tiene buen historial crediticio"
      ],
      "metadata": {
        "id": "VqZaU5x1k7LM"
      }
    },
    {
      "cell_type": "code",
      "source": [
        "prediction = clf.predict([dato1])"
      ],
      "metadata": {
        "id": "-1ZojNDiI0HQ"
      },
      "execution_count": null,
      "outputs": []
    },
    {
      "cell_type": "code",
      "source": [
        "print(prediction)"
      ],
      "metadata": {
        "colab": {
          "base_uri": "https://localhost:8080/"
        },
        "id": "3m1eKGcSJKMB",
        "outputId": "4ab22286-1e35-4d89-e08f-956a8b547e73"
      },
      "execution_count": null,
      "outputs": [
        {
          "output_type": "stream",
          "name": "stdout",
          "text": [
            "['prestar']\n"
          ]
        }
      ]
    },
    {
      "cell_type": "code",
      "source": [
        "if prediction == 'prestar':\n",
        "    print(\"Es conveniente darle el préstamo a este cliente\")\n",
        "else:\n",
        "    print(\"No es conveniente darle el préstamo a este cliente\")"
      ],
      "metadata": {
        "colab": {
          "base_uri": "https://localhost:8080/"
        },
        "id": "zyOWA96XI0Jp",
        "outputId": "ba838807-f1a9-411d-a24f-e09fe54f7b76"
      },
      "execution_count": null,
      "outputs": [
        {
          "output_type": "stream",
          "name": "stdout",
          "text": [
            "Es conveniente darle el préstamo a este cliente\n"
          ]
        }
      ]
    },
    {
      "cell_type": "code",
      "source": [
        "dato2 = [2, 1, 2]"
      ],
      "metadata": {
        "id": "2ZUKLtLZk2C3"
      },
      "execution_count": null,
      "outputs": []
    },
    {
      "cell_type": "markdown",
      "source": [
        "Colocamos que pide mucho, devuelve el préstamo en un tiempo intermedio y tiene un mal historial crediticio"
      ],
      "metadata": {
        "id": "nsR6C8jHlDzM"
      }
    },
    {
      "cell_type": "code",
      "source": [
        "prediction = clf.predict([dato2])"
      ],
      "metadata": {
        "id": "SVtEv6iRk2TH"
      },
      "execution_count": null,
      "outputs": []
    },
    {
      "cell_type": "code",
      "source": [
        "print(prediction)"
      ],
      "metadata": {
        "colab": {
          "base_uri": "https://localhost:8080/"
        },
        "id": "5D0UHcpNnzvj",
        "outputId": "340c72a6-da5d-4dd1-8407-cd5e05f4ce5a"
      },
      "execution_count": null,
      "outputs": [
        {
          "output_type": "stream",
          "name": "stdout",
          "text": [
            "['no prestar']\n"
          ]
        }
      ]
    },
    {
      "cell_type": "code",
      "source": [
        "if prediction == 'prestar':\n",
        "    print(\"Es conveniente darle el préstamo a este cliente\")\n",
        "else:\n",
        "    print(\"No es conveniente darle el préstamo a este cliente\")"
      ],
      "metadata": {
        "colab": {
          "base_uri": "https://localhost:8080/"
        },
        "id": "mGNfOK1nnzzf",
        "outputId": "cb087f33-a6b0-4c0b-c5d3-078617006f3d"
      },
      "execution_count": null,
      "outputs": [
        {
          "output_type": "stream",
          "name": "stdout",
          "text": [
            "No es conveniente darle el préstamo a este cliente\n"
          ]
        }
      ]
    }
  ]
}
