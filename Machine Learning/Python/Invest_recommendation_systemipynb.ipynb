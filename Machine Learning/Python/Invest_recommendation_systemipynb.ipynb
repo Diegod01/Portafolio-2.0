{
  "nbformat": 4,
  "nbformat_minor": 0,
  "metadata": {
    "colab": {
      "name": "Invest_recommendation_systemipynb",
      "provenance": [],
      "collapsed_sections": []
    },
    "kernelspec": {
      "name": "python3",
      "display_name": "Python 3"
    },
    "language_info": {
      "name": "python"
    }
  },
  "cells": [
    {
      "cell_type": "code",
      "execution_count": null,
      "metadata": {
        "id": "1eSiFCaWONNF"
      },
      "outputs": [],
      "source": [
        "import pandas as pd"
      ]
    },
    {
      "cell_type": "code",
      "source": [
        "df2 = pd.read_csv('/content/Empresas.csv')"
      ],
      "metadata": {
        "id": "vd5dQW2oRB8y"
      },
      "execution_count": null,
      "outputs": []
    },
    {
      "cell_type": "code",
      "source": [
        "df2"
      ],
      "metadata": {
        "colab": {
          "base_uri": "https://localhost:8080/",
          "height": 740
        },
        "id": "lD5KzBr0RCDY",
        "outputId": "1b1b376e-4748-4436-d843-1c9908b1e000"
      },
      "execution_count": null,
      "outputs": [
        {
          "output_type": "execute_result",
          "data": {
            "text/html": [
              "\n",
              "  <div id=\"df-bab89251-1096-49f0-b626-296084f3df30\">\n",
              "    <div class=\"colab-df-container\">\n",
              "      <div>\n",
              "<style scoped>\n",
              "    .dataframe tbody tr th:only-of-type {\n",
              "        vertical-align: middle;\n",
              "    }\n",
              "\n",
              "    .dataframe tbody tr th {\n",
              "        vertical-align: top;\n",
              "    }\n",
              "\n",
              "    .dataframe thead th {\n",
              "        text-align: right;\n",
              "    }\n",
              "</style>\n",
              "<table border=\"1\" class=\"dataframe\">\n",
              "  <thead>\n",
              "    <tr style=\"text-align: right;\">\n",
              "      <th></th>\n",
              "      <th>Unnamed: 0</th>\n",
              "      <th>Nº</th>\n",
              "      <th>Empresa</th>\n",
              "      <th>País</th>\n",
              "      <th>Sector</th>\n",
              "      <th>Cap. Bursátil</th>\n",
              "    </tr>\n",
              "  </thead>\n",
              "  <tbody>\n",
              "    <tr>\n",
              "      <th>0</th>\n",
              "      <td>0</td>\n",
              "      <td>1</td>\n",
              "      <td>Apple Inc</td>\n",
              "      <td>Estados Unidos</td>\n",
              "      <td>Tecnología, Hardware</td>\n",
              "      <td>2.03572</td>\n",
              "    </tr>\n",
              "    <tr>\n",
              "      <th>1</th>\n",
              "      <td>1</td>\n",
              "      <td>2</td>\n",
              "      <td>Aramco</td>\n",
              "      <td>Arabia Saudí</td>\n",
              "      <td>Petróleo</td>\n",
              "      <td>1.83675</td>\n",
              "    </tr>\n",
              "    <tr>\n",
              "      <th>2</th>\n",
              "      <td>2</td>\n",
              "      <td>3</td>\n",
              "      <td>Microsoft Corp</td>\n",
              "      <td>Estados Unidos</td>\n",
              "      <td>Tecnología, Software</td>\n",
              "      <td>1.75266</td>\n",
              "    </tr>\n",
              "    <tr>\n",
              "      <th>3</th>\n",
              "      <td>3</td>\n",
              "      <td>4</td>\n",
              "      <td>Amazon.Com Inc</td>\n",
              "      <td>Estados Unidos</td>\n",
              "      <td>Comercio minorista de Internet</td>\n",
              "      <td>1.55749</td>\n",
              "    </tr>\n",
              "    <tr>\n",
              "      <th>4</th>\n",
              "      <td>4</td>\n",
              "      <td>5</td>\n",
              "      <td>Alphabet Inc</td>\n",
              "      <td>Estados Unidos</td>\n",
              "      <td>Servicios y medios interactivos</td>\n",
              "      <td>1.36828</td>\n",
              "    </tr>\n",
              "    <tr>\n",
              "      <th>...</th>\n",
              "      <td>...</td>\n",
              "      <td>...</td>\n",
              "      <td>...</td>\n",
              "      <td>...</td>\n",
              "      <td>...</td>\n",
              "      <td>...</td>\n",
              "    </tr>\n",
              "    <tr>\n",
              "      <th>96</th>\n",
              "      <td>96</td>\n",
              "      <td>97</td>\n",
              "      <td>Siemens</td>\n",
              "      <td>Alemania</td>\n",
              "      <td>Conglomerados industriales</td>\n",
              "      <td>13144</td>\n",
              "    </tr>\n",
              "    <tr>\n",
              "      <th>97</th>\n",
              "      <td>97</td>\n",
              "      <td>98</td>\n",
              "      <td>Philip Morris</td>\n",
              "      <td>Estados Unidos</td>\n",
              "      <td>Tabaco</td>\n",
              "      <td>13086</td>\n",
              "    </tr>\n",
              "    <tr>\n",
              "      <th>98</th>\n",
              "      <td>98</td>\n",
              "      <td>99</td>\n",
              "      <td>Amgen Inc</td>\n",
              "      <td>Estados Unidos</td>\n",
              "      <td>Biotecnología</td>\n",
              "      <td>12991</td>\n",
              "    </tr>\n",
              "    <tr>\n",
              "      <th>99</th>\n",
              "      <td>99</td>\n",
              "      <td>100</td>\n",
              "      <td>Linde Plc</td>\n",
              "      <td>Reino Unido</td>\n",
              "      <td>Productos químicos</td>\n",
              "      <td>12773</td>\n",
              "    </tr>\n",
              "    <tr>\n",
              "      <th>100</th>\n",
              "      <td>100</td>\n",
              "      <td>Fuente: Datos de mercado.Datos a 1 de marzo de...</td>\n",
              "      <td>Fuente: Datos de mercado.Datos a 1 de marzo de...</td>\n",
              "      <td>Fuente: Datos de mercado.Datos a 1 de marzo de...</td>\n",
              "      <td>Fuente: Datos de mercado.Datos a 1 de marzo de...</td>\n",
              "      <td>Fuente: Datos de mercado.Datos a 1 de marzo de...</td>\n",
              "    </tr>\n",
              "  </tbody>\n",
              "</table>\n",
              "<p>101 rows × 6 columns</p>\n",
              "</div>\n",
              "      <button class=\"colab-df-convert\" onclick=\"convertToInteractive('df-bab89251-1096-49f0-b626-296084f3df30')\"\n",
              "              title=\"Convert this dataframe to an interactive table.\"\n",
              "              style=\"display:none;\">\n",
              "        \n",
              "  <svg xmlns=\"http://www.w3.org/2000/svg\" height=\"24px\"viewBox=\"0 0 24 24\"\n",
              "       width=\"24px\">\n",
              "    <path d=\"M0 0h24v24H0V0z\" fill=\"none\"/>\n",
              "    <path d=\"M18.56 5.44l.94 2.06.94-2.06 2.06-.94-2.06-.94-.94-2.06-.94 2.06-2.06.94zm-11 1L8.5 8.5l.94-2.06 2.06-.94-2.06-.94L8.5 2.5l-.94 2.06-2.06.94zm10 10l.94 2.06.94-2.06 2.06-.94-2.06-.94-.94-2.06-.94 2.06-2.06.94z\"/><path d=\"M17.41 7.96l-1.37-1.37c-.4-.4-.92-.59-1.43-.59-.52 0-1.04.2-1.43.59L10.3 9.45l-7.72 7.72c-.78.78-.78 2.05 0 2.83L4 21.41c.39.39.9.59 1.41.59.51 0 1.02-.2 1.41-.59l7.78-7.78 2.81-2.81c.8-.78.8-2.07 0-2.86zM5.41 20L4 18.59l7.72-7.72 1.47 1.35L5.41 20z\"/>\n",
              "  </svg>\n",
              "      </button>\n",
              "      \n",
              "  <style>\n",
              "    .colab-df-container {\n",
              "      display:flex;\n",
              "      flex-wrap:wrap;\n",
              "      gap: 12px;\n",
              "    }\n",
              "\n",
              "    .colab-df-convert {\n",
              "      background-color: #E8F0FE;\n",
              "      border: none;\n",
              "      border-radius: 50%;\n",
              "      cursor: pointer;\n",
              "      display: none;\n",
              "      fill: #1967D2;\n",
              "      height: 32px;\n",
              "      padding: 0 0 0 0;\n",
              "      width: 32px;\n",
              "    }\n",
              "\n",
              "    .colab-df-convert:hover {\n",
              "      background-color: #E2EBFA;\n",
              "      box-shadow: 0px 1px 2px rgba(60, 64, 67, 0.3), 0px 1px 3px 1px rgba(60, 64, 67, 0.15);\n",
              "      fill: #174EA6;\n",
              "    }\n",
              "\n",
              "    [theme=dark] .colab-df-convert {\n",
              "      background-color: #3B4455;\n",
              "      fill: #D2E3FC;\n",
              "    }\n",
              "\n",
              "    [theme=dark] .colab-df-convert:hover {\n",
              "      background-color: #434B5C;\n",
              "      box-shadow: 0px 1px 3px 1px rgba(0, 0, 0, 0.15);\n",
              "      filter: drop-shadow(0px 1px 2px rgba(0, 0, 0, 0.3));\n",
              "      fill: #FFFFFF;\n",
              "    }\n",
              "  </style>\n",
              "\n",
              "      <script>\n",
              "        const buttonEl =\n",
              "          document.querySelector('#df-bab89251-1096-49f0-b626-296084f3df30 button.colab-df-convert');\n",
              "        buttonEl.style.display =\n",
              "          google.colab.kernel.accessAllowed ? 'block' : 'none';\n",
              "\n",
              "        async function convertToInteractive(key) {\n",
              "          const element = document.querySelector('#df-bab89251-1096-49f0-b626-296084f3df30');\n",
              "          const dataTable =\n",
              "            await google.colab.kernel.invokeFunction('convertToInteractive',\n",
              "                                                     [key], {});\n",
              "          if (!dataTable) return;\n",
              "\n",
              "          const docLinkHtml = 'Like what you see? Visit the ' +\n",
              "            '<a target=\"_blank\" href=https://colab.research.google.com/notebooks/data_table.ipynb>data table notebook</a>'\n",
              "            + ' to learn more about interactive tables.';\n",
              "          element.innerHTML = '';\n",
              "          dataTable['output_type'] = 'display_data';\n",
              "          await google.colab.output.renderOutput(dataTable, element);\n",
              "          const docLink = document.createElement('div');\n",
              "          docLink.innerHTML = docLinkHtml;\n",
              "          element.appendChild(docLink);\n",
              "        }\n",
              "      </script>\n",
              "    </div>\n",
              "  </div>\n",
              "  "
            ],
            "text/plain": [
              "     Unnamed: 0  ...                                      Cap. Bursátil\n",
              "0             0  ...                                            2.03572\n",
              "1             1  ...                                            1.83675\n",
              "2             2  ...                                            1.75266\n",
              "3             3  ...                                            1.55749\n",
              "4             4  ...                                            1.36828\n",
              "..          ...  ...                                                ...\n",
              "96           96  ...                                              13144\n",
              "97           97  ...                                              13086\n",
              "98           98  ...                                              12991\n",
              "99           99  ...                                              12773\n",
              "100         100  ...  Fuente: Datos de mercado.Datos a 1 de marzo de...\n",
              "\n",
              "[101 rows x 6 columns]"
            ]
          },
          "metadata": {},
          "execution_count": 3
        }
      ]
    },
    {
      "cell_type": "code",
      "source": [
        "df2 = df2.dropna()"
      ],
      "metadata": {
        "id": "FYhGAeGcRCHb"
      },
      "execution_count": null,
      "outputs": []
    },
    {
      "cell_type": "code",
      "source": [
        "from sklearn.feature_extraction.text import CountVectorizer\n",
        "tf2=CountVectorizer()"
      ],
      "metadata": {
        "id": "LYR5pKA-RCLV"
      },
      "execution_count": null,
      "outputs": []
    },
    {
      "cell_type": "code",
      "source": [
        "X2 = tf2.fit_transform(df2['Empresa'])"
      ],
      "metadata": {
        "id": "ZJxLFKuqSdWC"
      },
      "execution_count": null,
      "outputs": []
    },
    {
      "cell_type": "code",
      "source": [
        "from sklearn.metrics.pairwise import cosine_similarity"
      ],
      "metadata": {
        "id": "5OvQ6htySdbe"
      },
      "execution_count": null,
      "outputs": []
    },
    {
      "cell_type": "code",
      "source": [
        "cosine_sim = cosine_similarity(X2)"
      ],
      "metadata": {
        "id": "6J84Avk7SdgU"
      },
      "execution_count": null,
      "outputs": []
    },
    {
      "cell_type": "code",
      "source": [
        "Invest_business = 'Microsoft Corp'"
      ],
      "metadata": {
        "id": "t3tjTRj6Sn7S"
      },
      "execution_count": null,
      "outputs": []
    },
    {
      "cell_type": "code",
      "source": [
        "index_l = df2[df2['Empresa'] == Invest_business].index.values[0]\n",
        "similar_business = list(enumerate(cosine_sim[index_l]))\n",
        "sort_business = sorted(similar_business , key = lambda X:X[1] , reverse = True)\n",
        "sort_business.pop(0)\n",
        "sort_business = sort_business[:10]"
      ],
      "metadata": {
        "id": "874MsJATSoAg"
      },
      "execution_count": null,
      "outputs": []
    },
    {
      "cell_type": "code",
      "source": [
        "sort_business"
      ],
      "metadata": {
        "colab": {
          "base_uri": "https://localhost:8080/"
        },
        "id": "pI5wDLX4SoGF",
        "outputId": "93dfa4bd-4b4f-442f-ac69-0afc24122cf6"
      },
      "execution_count": null,
      "outputs": [
        {
          "output_type": "execute_result",
          "data": {
            "text/plain": [
              "[(19, 0.4999999999999999),\n",
              " (30, 0.4999999999999999),\n",
              " (31, 0.4999999999999999),\n",
              " (51, 0.4999999999999999),\n",
              " (55, 0.4999999999999999),\n",
              " (71, 0.4999999999999999),\n",
              " (74, 0.4999999999999999),\n",
              " (95, 0.4999999999999999),\n",
              " (36, 0.408248290463863),\n",
              " (89, 0.408248290463863)]"
            ]
          },
          "metadata": {},
          "execution_count": 11
        }
      ]
    },
    {
      "cell_type": "code",
      "source": [
        "for movies in sort_business:\n",
        "    print(df2.Empresa[movies[0]])"
      ],
      "metadata": {
        "colab": {
          "base_uri": "https://localhost:8080/"
        },
        "id": "5d6-9XuXRCOt",
        "outputId": "cc59f9f0-c786-490a-a802-1490572b6fbf"
      },
      "execution_count": null,
      "outputs": [
        {
          "output_type": "stream",
          "name": "stdout",
          "text": [
            "Nvidia Corp\n",
            "Intel Corp\n",
            "Comcast Corp\n",
            "Chevron Corp\n",
            "Oracle Corp\n",
            "Danaher Corp\n",
            "Mcdonalds Corp\n",
            "Sony Corp\n",
            "Exxon Mobil Corp\n",
            "Union Pac Corp\n"
          ]
        }
      ]
    },
    {
      "cell_type": "markdown",
      "source": [
        ""
      ],
      "metadata": {
        "id": "Mq-6py9zT2ig"
      }
    },
    {
      "cell_type": "markdown",
      "source": [
        "Las empresas en las cual el algoritmo nos recomienda invertir en base a nuestra inversión en Microsoft / The companies in which the algorithm recommends us to invest based on our investment in Microsoft"
      ],
      "metadata": {
        "id": "yvzgdPeaS8wg"
      }
    }
  ]
}