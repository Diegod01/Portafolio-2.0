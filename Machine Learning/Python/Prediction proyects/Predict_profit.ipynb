{
  "nbformat": 4,
  "nbformat_minor": 0,
  "metadata": {
    "colab": {
      "name": "Predict_profit.ipynb",
      "provenance": [],
      "collapsed_sections": []
    },
    "kernelspec": {
      "name": "python3",
      "display_name": "Python 3"
    },
    "language_info": {
      "name": "python"
    }
  },
  "cells": [
    {
      "cell_type": "code",
      "source": [
        "\n",
        "import numpy as np  \n",
        "\n",
        "  \n",
        "\n",
        "\n",
        "import matplotlib.pyplot as plt \n",
        "\n",
        "  \n",
        "import pandas as pd"
      ],
      "metadata": {
        "id": "eqccbDDo_liH"
      },
      "execution_count": null,
      "outputs": []
    },
    {
      "cell_type": "code",
      "source": [
        "\n",
        "dataset = np.array( \n",
        "\n",
        "[['Asset Flip', 100, 1000], \n",
        "\n",
        "['Text Based', 500, 3000], \n",
        "\n",
        "['Visual Novel', 1500, 5000], \n",
        "\n",
        "['2D Pixel Art', 3500, 8000], \n",
        "\n",
        "['2D Vector Art', 5000, 6500], \n",
        "\n",
        "['Strategy', 6000, 7000], \n",
        "\n",
        "['First Person Shooter', 8000, 15000], \n",
        "\n",
        "['Simulator', 9500, 20000], \n",
        "\n",
        "['Racing', 12000, 21000], \n",
        "\n",
        "['RPG', 14000, 25000], \n",
        "\n",
        "['Sandbox', 15500, 27000], \n",
        "\n",
        "['Open-World', 16500, 30000], \n",
        "\n",
        "['MMOFPS', 25000, 52000], \n",
        "\n",
        "['MMORPG', 30000, 80000] \n",
        "])"
      ],
      "metadata": {
        "id": "7fQud-7m9x0o"
      },
      "execution_count": null,
      "outputs": []
    },
    {
      "cell_type": "code",
      "source": [
        "print(dataset)"
      ],
      "metadata": {
        "id": "om34cODO9yCt",
        "colab": {
          "base_uri": "https://localhost:8080/"
        },
        "outputId": "b11950c2-9d4e-4119-d93f-c1a20f7ba820"
      },
      "execution_count": null,
      "outputs": [
        {
          "output_type": "stream",
          "name": "stdout",
          "text": [
            "[['Asset Flip' '100' '1000']\n",
            " ['Text Based' '500' '3000']\n",
            " ['Visual Novel' '1500' '5000']\n",
            " ['2D Pixel Art' '3500' '8000']\n",
            " ['2D Vector Art' '5000' '6500']\n",
            " ['Strategy' '6000' '7000']\n",
            " ['First Person Shooter' '8000' '15000']\n",
            " ['Simulator' '9500' '20000']\n",
            " ['Racing' '12000' '21000']\n",
            " ['RPG' '14000' '25000']\n",
            " ['Sandbox' '15500' '27000']\n",
            " ['Open-World' '16500' '30000']\n",
            " ['MMOFPS' '25000' '52000']\n",
            " ['MMORPG' '30000' '80000']]\n"
          ]
        }
      ]
    },
    {
      "cell_type": "code",
      "source": [
        "pd.DataFrame(dataset)"
      ],
      "metadata": {
        "id": "nFIfyr6R9yL_",
        "colab": {
          "base_uri": "https://localhost:8080/",
          "height": 532
        },
        "outputId": "88f79bd2-00bb-4e6c-c848-dad922ba1e9d"
      },
      "execution_count": null,
      "outputs": [
        {
          "output_type": "execute_result",
          "data": {
            "text/html": [
              "\n",
              "  <div id=\"df-87df8e56-ddc6-4efb-b0fb-a6d488d22a8c\">\n",
              "    <div class=\"colab-df-container\">\n",
              "      <div>\n",
              "<style scoped>\n",
              "    .dataframe tbody tr th:only-of-type {\n",
              "        vertical-align: middle;\n",
              "    }\n",
              "\n",
              "    .dataframe tbody tr th {\n",
              "        vertical-align: top;\n",
              "    }\n",
              "\n",
              "    .dataframe thead th {\n",
              "        text-align: right;\n",
              "    }\n",
              "</style>\n",
              "<table border=\"1\" class=\"dataframe\">\n",
              "  <thead>\n",
              "    <tr style=\"text-align: right;\">\n",
              "      <th></th>\n",
              "      <th>0</th>\n",
              "      <th>1</th>\n",
              "      <th>2</th>\n",
              "    </tr>\n",
              "  </thead>\n",
              "  <tbody>\n",
              "    <tr>\n",
              "      <th>0</th>\n",
              "      <td>Asset Flip</td>\n",
              "      <td>100</td>\n",
              "      <td>1000</td>\n",
              "    </tr>\n",
              "    <tr>\n",
              "      <th>1</th>\n",
              "      <td>Text Based</td>\n",
              "      <td>500</td>\n",
              "      <td>3000</td>\n",
              "    </tr>\n",
              "    <tr>\n",
              "      <th>2</th>\n",
              "      <td>Visual Novel</td>\n",
              "      <td>1500</td>\n",
              "      <td>5000</td>\n",
              "    </tr>\n",
              "    <tr>\n",
              "      <th>3</th>\n",
              "      <td>2D Pixel Art</td>\n",
              "      <td>3500</td>\n",
              "      <td>8000</td>\n",
              "    </tr>\n",
              "    <tr>\n",
              "      <th>4</th>\n",
              "      <td>2D Vector Art</td>\n",
              "      <td>5000</td>\n",
              "      <td>6500</td>\n",
              "    </tr>\n",
              "    <tr>\n",
              "      <th>5</th>\n",
              "      <td>Strategy</td>\n",
              "      <td>6000</td>\n",
              "      <td>7000</td>\n",
              "    </tr>\n",
              "    <tr>\n",
              "      <th>6</th>\n",
              "      <td>First Person Shooter</td>\n",
              "      <td>8000</td>\n",
              "      <td>15000</td>\n",
              "    </tr>\n",
              "    <tr>\n",
              "      <th>7</th>\n",
              "      <td>Simulator</td>\n",
              "      <td>9500</td>\n",
              "      <td>20000</td>\n",
              "    </tr>\n",
              "    <tr>\n",
              "      <th>8</th>\n",
              "      <td>Racing</td>\n",
              "      <td>12000</td>\n",
              "      <td>21000</td>\n",
              "    </tr>\n",
              "    <tr>\n",
              "      <th>9</th>\n",
              "      <td>RPG</td>\n",
              "      <td>14000</td>\n",
              "      <td>25000</td>\n",
              "    </tr>\n",
              "    <tr>\n",
              "      <th>10</th>\n",
              "      <td>Sandbox</td>\n",
              "      <td>15500</td>\n",
              "      <td>27000</td>\n",
              "    </tr>\n",
              "    <tr>\n",
              "      <th>11</th>\n",
              "      <td>Open-World</td>\n",
              "      <td>16500</td>\n",
              "      <td>30000</td>\n",
              "    </tr>\n",
              "    <tr>\n",
              "      <th>12</th>\n",
              "      <td>MMOFPS</td>\n",
              "      <td>25000</td>\n",
              "      <td>52000</td>\n",
              "    </tr>\n",
              "    <tr>\n",
              "      <th>13</th>\n",
              "      <td>MMORPG</td>\n",
              "      <td>30000</td>\n",
              "      <td>80000</td>\n",
              "    </tr>\n",
              "  </tbody>\n",
              "</table>\n",
              "</div>\n",
              "      <button class=\"colab-df-convert\" onclick=\"convertToInteractive('df-87df8e56-ddc6-4efb-b0fb-a6d488d22a8c')\"\n",
              "              title=\"Convert this dataframe to an interactive table.\"\n",
              "              style=\"display:none;\">\n",
              "        \n",
              "  <svg xmlns=\"http://www.w3.org/2000/svg\" height=\"24px\"viewBox=\"0 0 24 24\"\n",
              "       width=\"24px\">\n",
              "    <path d=\"M0 0h24v24H0V0z\" fill=\"none\"/>\n",
              "    <path d=\"M18.56 5.44l.94 2.06.94-2.06 2.06-.94-2.06-.94-.94-2.06-.94 2.06-2.06.94zm-11 1L8.5 8.5l.94-2.06 2.06-.94-2.06-.94L8.5 2.5l-.94 2.06-2.06.94zm10 10l.94 2.06.94-2.06 2.06-.94-2.06-.94-.94-2.06-.94 2.06-2.06.94z\"/><path d=\"M17.41 7.96l-1.37-1.37c-.4-.4-.92-.59-1.43-.59-.52 0-1.04.2-1.43.59L10.3 9.45l-7.72 7.72c-.78.78-.78 2.05 0 2.83L4 21.41c.39.39.9.59 1.41.59.51 0 1.02-.2 1.41-.59l7.78-7.78 2.81-2.81c.8-.78.8-2.07 0-2.86zM5.41 20L4 18.59l7.72-7.72 1.47 1.35L5.41 20z\"/>\n",
              "  </svg>\n",
              "      </button>\n",
              "      \n",
              "  <style>\n",
              "    .colab-df-container {\n",
              "      display:flex;\n",
              "      flex-wrap:wrap;\n",
              "      gap: 12px;\n",
              "    }\n",
              "\n",
              "    .colab-df-convert {\n",
              "      background-color: #E8F0FE;\n",
              "      border: none;\n",
              "      border-radius: 50%;\n",
              "      cursor: pointer;\n",
              "      display: none;\n",
              "      fill: #1967D2;\n",
              "      height: 32px;\n",
              "      padding: 0 0 0 0;\n",
              "      width: 32px;\n",
              "    }\n",
              "\n",
              "    .colab-df-convert:hover {\n",
              "      background-color: #E2EBFA;\n",
              "      box-shadow: 0px 1px 2px rgba(60, 64, 67, 0.3), 0px 1px 3px 1px rgba(60, 64, 67, 0.15);\n",
              "      fill: #174EA6;\n",
              "    }\n",
              "\n",
              "    [theme=dark] .colab-df-convert {\n",
              "      background-color: #3B4455;\n",
              "      fill: #D2E3FC;\n",
              "    }\n",
              "\n",
              "    [theme=dark] .colab-df-convert:hover {\n",
              "      background-color: #434B5C;\n",
              "      box-shadow: 0px 1px 3px 1px rgba(0, 0, 0, 0.15);\n",
              "      filter: drop-shadow(0px 1px 2px rgba(0, 0, 0, 0.3));\n",
              "      fill: #FFFFFF;\n",
              "    }\n",
              "  </style>\n",
              "\n",
              "      <script>\n",
              "        const buttonEl =\n",
              "          document.querySelector('#df-87df8e56-ddc6-4efb-b0fb-a6d488d22a8c button.colab-df-convert');\n",
              "        buttonEl.style.display =\n",
              "          google.colab.kernel.accessAllowed ? 'block' : 'none';\n",
              "\n",
              "        async function convertToInteractive(key) {\n",
              "          const element = document.querySelector('#df-87df8e56-ddc6-4efb-b0fb-a6d488d22a8c');\n",
              "          const dataTable =\n",
              "            await google.colab.kernel.invokeFunction('convertToInteractive',\n",
              "                                                     [key], {});\n",
              "          if (!dataTable) return;\n",
              "\n",
              "          const docLinkHtml = 'Like what you see? Visit the ' +\n",
              "            '<a target=\"_blank\" href=https://colab.research.google.com/notebooks/data_table.ipynb>data table notebook</a>'\n",
              "            + ' to learn more about interactive tables.';\n",
              "          element.innerHTML = '';\n",
              "          dataTable['output_type'] = 'display_data';\n",
              "          await google.colab.output.renderOutput(dataTable, element);\n",
              "          const docLink = document.createElement('div');\n",
              "          docLink.innerHTML = docLinkHtml;\n",
              "          element.appendChild(docLink);\n",
              "        }\n",
              "      </script>\n",
              "    </div>\n",
              "  </div>\n",
              "  "
            ],
            "text/plain": [
              "                       0      1      2\n",
              "0             Asset Flip    100   1000\n",
              "1             Text Based    500   3000\n",
              "2           Visual Novel   1500   5000\n",
              "3           2D Pixel Art   3500   8000\n",
              "4          2D Vector Art   5000   6500\n",
              "5               Strategy   6000   7000\n",
              "6   First Person Shooter   8000  15000\n",
              "7              Simulator   9500  20000\n",
              "8                 Racing  12000  21000\n",
              "9                    RPG  14000  25000\n",
              "10               Sandbox  15500  27000\n",
              "11            Open-World  16500  30000\n",
              "12                MMOFPS  25000  52000\n",
              "13                MMORPG  30000  80000"
            ]
          },
          "metadata": {},
          "execution_count": 6
        }
      ]
    },
    {
      "cell_type": "code",
      "source": [
        "\n",
        "X = dataset[:, 1:2].astype(int)  \n",
        "\n",
        "  \n",
        "\n",
        "print(X)"
      ],
      "metadata": {
        "colab": {
          "base_uri": "https://localhost:8080/"
        },
        "id": "Uzb-CkgJ0cmB",
        "outputId": "34bc9d10-cf7f-48cc-d7c0-1875ed1b1651"
      },
      "execution_count": null,
      "outputs": [
        {
          "output_type": "stream",
          "name": "stdout",
          "text": [
            "[[  100]\n",
            " [  500]\n",
            " [ 1500]\n",
            " [ 3500]\n",
            " [ 5000]\n",
            " [ 6000]\n",
            " [ 8000]\n",
            " [ 9500]\n",
            " [12000]\n",
            " [14000]\n",
            " [15500]\n",
            " [16500]\n",
            " [25000]\n",
            " [30000]]\n"
          ]
        }
      ]
    },
    {
      "cell_type": "code",
      "source": [
        "\n",
        "y = dataset[:, 2].astype(int)"
      ],
      "metadata": {
        "id": "bAiZ7vU50fx6"
      },
      "execution_count": null,
      "outputs": []
    },
    {
      "cell_type": "code",
      "source": [
        "print(y)"
      ],
      "metadata": {
        "colab": {
          "base_uri": "https://localhost:8080/"
        },
        "id": "Rl3ZWoXj0f6X",
        "outputId": "babfbbf1-f950-4247-ad06-939965f127c0"
      },
      "execution_count": null,
      "outputs": [
        {
          "output_type": "stream",
          "name": "stdout",
          "text": [
            "[ 1000  3000  5000  8000  6500  7000 15000 20000 21000 25000 27000 30000\n",
            " 52000 80000]\n"
          ]
        }
      ]
    },
    {
      "cell_type": "code",
      "source": [
        "\n",
        "from sklearn.tree import DecisionTreeRegressor  \n",
        "\n",
        "   \n",
        "\n",
        "regressor = DecisionTreeRegressor(random_state = 0)  \n",
        "\n",
        "  \n",
        "\n",
        "regressor.fit(X, y)"
      ],
      "metadata": {
        "id": "dLbmxdzdCO67",
        "colab": {
          "base_uri": "https://localhost:8080/"
        },
        "outputId": "638a8483-e1c2-4b98-c23f-e304abeeffaf"
      },
      "execution_count": null,
      "outputs": [
        {
          "output_type": "execute_result",
          "data": {
            "text/plain": [
              "DecisionTreeRegressor(random_state=0)"
            ]
          },
          "metadata": {},
          "execution_count": 11
        }
      ]
    },
    {
      "cell_type": "code",
      "source": [
        "\n",
        "y_pred = regressor.predict([[3750]]) \n",
        "\n",
        "  \n",
        "\n",
        "print(\"Predicted price: % d\\n\"% y_pred)"
      ],
      "metadata": {
        "colab": {
          "base_uri": "https://localhost:8080/"
        },
        "id": "fmCV21APzfRl",
        "outputId": "cb22b35d-73ac-4da9-d14e-2e35ad51a67d"
      },
      "execution_count": null,
      "outputs": [
        {
          "output_type": "stream",
          "name": "stdout",
          "text": [
            "Predicted price:  8000\n",
            "\n"
          ]
        }
      ]
    },
    {
      "cell_type": "code",
      "source": [
        "\n",
        "X_grid = np.arange(min(X), max(X), 0.01)"
      ],
      "metadata": {
        "id": "Ig8Q6Oe10x8J"
      },
      "execution_count": null,
      "outputs": []
    },
    {
      "cell_type": "code",
      "source": [
        "X_grid = X_grid.reshape((len(X_grid), 1))"
      ],
      "metadata": {
        "id": "DKkZYp0J0yAE"
      },
      "execution_count": null,
      "outputs": []
    },
    {
      "cell_type": "code",
      "source": [
        "\n",
        "plt.scatter(X, y, color = 'red') \n",
        "\n",
        "\n",
        "\n",
        "plt.plot(X_grid, regressor.predict(X_grid), color = 'blue')  \n",
        " \n",
        "\n",
        "plt.title('Profit to Production Cost (Decision Tree Regression)')  \n",
        "\n",
        "  \n",
        "\n",
        "plt.xlabel('Production Cost') \n",
        "\n",
        "  \n",
        "\n",
        "\n",
        "plt.ylabel('Profit') \n",
        "\n",
        "  \n",
        " \n",
        "plt.show()"
      ],
      "metadata": {
        "colab": {
          "base_uri": "https://localhost:8080/",
          "height": 222
        },
        "id": "YBpzpYCV0yEw",
        "outputId": "a5cc43d5-0935-4fbb-f7b3-635adc18b5e3"
      },
      "execution_count": null,
      "outputs": [
        {
          "output_type": "display_data",
          "data": {
            "image/png": "[encoded data removed]",
            "text/plain": [
              "<Figure size 432x288 with 1 Axes>"
            ]
          },
          "metadata": {
            "needs_background": "light"
          }
        }
      ]
    },
    {
      "cell_type": "code",
      "source": [
        ""
      ],
      "metadata": {
        "id": "-q5NtOBv0yMv"
      },
      "execution_count": null,
      "outputs": []
    },
    {
      "cell_type": "markdown",
      "source": [
        "Un producto com un costo de producción de 3750$ generaría una ganancia de 8000$"
      ],
      "metadata": {
        "id": "bR7-YwD-18_i"
      }
    }
  ]
}
