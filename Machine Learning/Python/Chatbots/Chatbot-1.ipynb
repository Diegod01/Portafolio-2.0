{
  "cells": [
    {
      "cell_type": "code",
      "execution_count": null,
      "metadata": {
        "id": "FhGfD_Y22DMb"
      },
      "outputs": [],
      "source": [
        "import nltk"
      ]
    },
    {
      "cell_type": "code",
      "execution_count": null,
      "metadata": {
        "id": "jvsI7Im-O10n"
      },
      "outputs": [],
      "source": [
        "from nltk.chat.util import Chat, reflections"
      ]
    },
    {
      "cell_type": "code",
      "execution_count": null,
      "metadata": {
        "id": "uh9xrL-lO13R"
      },
      "outputs": [],
      "source": [
        "mis_reflexions = {\n",
        "\"ir\": \"fui\",\n",
        "\"hola\": \"hey\"\n",
        "}"
      ]
    },
    {
      "cell_type": "code",
      "execution_count": null,
      "metadata": {
        "id": "44gjPapm2DOv"
      },
      "outputs": [],
      "source": [
        "pares = [\n",
        "[ \n",
        "r\"Hola\",\n",
        "[\"Bienvenido, soy el ChatBot de el banco y te ayudare en lo que necesites 24 horas, para información escribe INFO y para dudas escribe DUDA\",]\n",
        "],\n",
        "[\n",
        "r\"DUDA\",\n",
        "[\"Necesito tú número de documento para conectarme a la base de datos\",]\n",
        "],\n",
        "[\n",
        "r\"12345678\",\n",
        "[\"Documento registrado, escribe LISTA para mostrarte las opciones\",]\n",
        "],\n",
        "[\n",
        "r\"LISTA\",\n",
        "[\"Digita el número que desees ver:  1 = Préstamos solicitados y cantidad a pagar,      2 =  Intereses generados, 3 = Estado patrimonial   4 = Gráfico de tu estado financiero\"]\n",
        "],\n",
        "[\n",
        "r\"1\",\n",
        "[\"El 4/12/2022 solicitaste un préstamo al consumo por 12000$ por 6 cuotas, has pagado 6000$, te falta pagar otros 6000$\",]\n",
        "],\n",
        "[\n",
        "r\"2\",\n",
        "[\"El 10/6/2018 depositaste $20000 a 4 años con un interés simple de 4%, actualmente el interés generado es de 3200$, actualmente tienes 23200$\",]\n",
        "],\n",
        "]"
      ]
    },
    {
      "cell_type": "code",
      "execution_count": null,
      "metadata": {
        "colab": {
          "base_uri": "https://localhost:8080/"
        },
        "id": "4n-Hd0XTPvXx",
        "outputId": "fd8a712e-970e-42e1-9e7a-6a66b0fbd582"
      },
      "outputs": [
        {
          "metadata": {
            "tags": null
          },
          "name": "stdout",
          "output_type": "stream",
          "text": [
            "Bienvenido, soy el ChatBot de el banco y te ayudare en lo que necesites 24 horas, para información escribe INFO y para dudas escribe DUDA\n",
            "Necesito tú número de documento para conectarme a la base de datos\n",
            "Documento registrado, escribe LISTA para mostrarte las opciones\n",
            "Digita el número que desees ver:  1 = Préstamos solicitados y cantidad a pagar,      2 =  Intereses generados, 3 = Estado patrimonial   4 = Gráfico de tu estado financiero\n",
            "El 4/12/2022 solicitaste un préstamo al consumo por 12000$ por 6 cuotas, has pagado 6000$, te falta pagar otros 6000$\n"
          ]
        }
      ],
      "source": [
        "def chatear():\n",
        "  print(\"Hola\")\n",
        "chat = Chat(pares, mis_reflexions)\n",
        "chat.converse()\n",
        "if __name__ == \"__main__\":\n",
        "  chatear()"
      ]
    },
    {
      "cell_type": "code",
      "source": [
        ""
      ],
      "metadata": {
        "id": "2SFmgv0JEwgp"
      },
      "execution_count": null,
      "outputs": []
    }
  ],
  "metadata": {
    "colab": {
      "collapsed_sections": [],
      "name": "Chatbot.ipynb",
      "provenance": []
    },
    "kernelspec": {
      "display_name": "Python 3",
      "name": "python3"
    },
    "language_info": {
      "name": "python"
    }
  },
  "nbformat": 4,
  "nbformat_minor": 0
}