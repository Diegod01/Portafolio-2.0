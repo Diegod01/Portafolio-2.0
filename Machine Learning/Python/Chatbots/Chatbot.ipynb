{
  "nbformat": 4,
  "nbformat_minor": 0,
  "metadata": {
    "colab": {
      "name": "Chatbot.ipynb",
      "provenance": [],
      "collapsed_sections": []
    },
    "kernelspec": {
      "name": "python3",
      "display_name": "Python 3"
    },
    "language_info": {
      "name": "python"
    }
  },
  "cells": [
    {
      "cell_type": "code",
      "source": [
        "import nltk"
      ],
      "metadata": {
        "id": "FhGfD_Y22DMb"
      },
      "execution_count": null,
      "outputs": []
    },
    {
      "cell_type": "code",
      "source": [
        "from nltk.chat.util import Chat, reflections"
      ],
      "metadata": {
        "id": "jvsI7Im-O10n"
      },
      "execution_count": null,
      "outputs": []
    },
    {
      "cell_type": "code",
      "source": [
        "mis_reflexions = {\n",
        "\"ir\": \"fui\",\n",
        "\"hola\": \"hey\"\n",
        "}"
      ],
      "metadata": {
        "id": "uh9xrL-lO13R"
      },
      "execution_count": null,
      "outputs": []
    },
    {
      "cell_type": "code",
      "source": [
        "pares = [\n",
        "[ \n",
        "r\"mi nombre es (.*)\",\n",
        "[\"Hola %1, cómo estás ?\",]\n",
        "],\n",
        "[\n",
        "r\"cual es tu nombre ?\",\n",
        "[\"Mi nombre es Chatbot ?\",]\n",
        "],\n",
        "[\n",
        "r\"cómo estás ?\",\n",
        "[\"Bien, y tú?\",]\n",
        "],\n",
        "[\n",
        "r\"disculpa (.*)\",\n",
        "[\"No pasa nada\",]\n",
        "],\n",
        "[\n",
        "r\"hola|hey|buenas\",\n",
        "[\"Hola\", \"Que tal\",]\n",
        "],\n",
        "[\n",
        "r\"que (.*) quieres ?\",\n",
        "[\"Nada gracias\",]\n",
        "],\n",
        "[r\"finalizar\",\n",
        "[\"Bye\",\"Fue bueno hablar contigo\"]\n",
        "],\n",
        "]"
      ],
      "metadata": {
        "id": "44gjPapm2DOv"
      },
      "execution_count": null,
      "outputs": []
    },
    {
      "cell_type": "code",
      "source": [
        "def chatear():\n",
        "  print(\"Hola\")\n",
        "chat = Chat(pares, mis_reflexions)\n",
        "chat.converse()\n",
        "if __name__ == \"__main__\":\n",
        "  chatear()"
      ],
      "metadata": {
        "colab": {
          "base_uri": "https://localhost:8080/"
        },
        "id": "4n-Hd0XTPvXx",
        "outputId": "3ef1baea-19d8-4fc3-b4c9-8bbd035db6ff"
      },
      "execution_count": null,
      "outputs": [
        {
          "metadata": {
            "tags": null
          },
          "name": "stdout",
          "output_type": "stream",
          "text": [
            "Hola diego, cómo estás ?\n",
            "None\n"
          ]
        }
      ]
    },
    {
      "cell_type": "code",
      "source": [
        "chatear()"
      ],
      "metadata": {
        "id": "OT5wJWhhR605"
      },
      "execution_count": null,
      "outputs": []
    }
  ]
}