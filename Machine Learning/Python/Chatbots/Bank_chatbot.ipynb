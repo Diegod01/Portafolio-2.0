{
  "cells": [
    {
      "cell_type": "code",
      "execution_count": null,
      "metadata": {
        "id": "FhGfD_Y22DMb"
      },
      "outputs": [],
      "source": [
        "import nltk"
      ]
    },
    {
      "cell_type": "code",
      "execution_count": null,
      "metadata": {
        "id": "jvsI7Im-O10n"
      },
      "outputs": [],
      "source": [
        "from nltk.chat.util import Chat, reflections"
      ]
    },
    {
      "cell_type": "code",
      "execution_count": null,
      "metadata": {
        "id": "uh9xrL-lO13R"
      },
      "outputs": [],
      "source": [
        "mis_reflexions = {\n",
        "\"to go\": \"I was\",\n",
        "\"hello\": \"hey\"\n",
        "}"
      ]
    },
    {
      "cell_type": "code",
      "execution_count": null,
      "metadata": {
        "id": "44gjPapm2DOv"
      },
      "outputs": [],
      "source": [
        "pares = [\n",
        "[ \n",
        "r\"Hello (.*) \",\n",
        "[\"Welcome, I am the ChatBot of the bank and I will help you in what you need 24 hours, for information write INFO and for doubts write DOUBT\",]\n",
        "],\n",
        "[\n",
        "r\"DOUBT\",\n",
        "[\"I need your document number to search for you in the database\",]\n",
        "],\n",
        "[\n",
        "r\"12345678\",\n",
        "[\"Registered document, type LIST to show you the options\",]\n",
        "],\n",
        "[\n",
        "r\"LIST\",\n",
        "[\"Enter the number you want to see: 1 = Loans requested and amount to pay, 2 = Interest generated, 3 = Asset status 4 = Graph of your financial status\"]\n",
        "],\n",
        "[\n",
        "r\"1\",\n",
        "[\"On 12/4/2022 you requested a consumer loan for $12,000 for 6 installments, you have paid $6,000, you still need to pay another $6,000\",]\n",
        "],\n",
        "[\n",
        "r\"2\",\n",
        "[\"On 6/10/2018 you deposited $20,000 at 4 years with a simple interest of 4%, currently the interest generated is $3,200, you currently have $23,200\",]\n",
        "],\n",
        "]"
      ]
    },
    {
      "cell_type": "code",
      "execution_count": null,
      "metadata": {
        "colab": {
          "base_uri": "https://localhost:8080/"
        },
        "id": "4n-Hd0XTPvXx",
        "outputId": "fd8a712e-970e-42e1-9e7a-6a66b0fbd582"
      },
      "outputs": [
        {
          "metadata": {
            "tags": null
          },
          "name": "stdout",
          "output_type": "stream",
          "text": [
            "Bienvenido, soy el ChatBot de el banco y te ayudare en lo que necesites 24 horas, para información escribe INFO y para dudas escribe DUDA\n",
            "Necesito tú número de documento para conectarme a la base de datos\n",
            "Documento registrado, escribe LISTA para mostrarte las opciones\n",
            "Digita el número que desees ver:  1 = Préstamos solicitados y cantidad a pagar,      2 =  Intereses generados, 3 = Estado patrimonial   4 = Gráfico de tu estado financiero\n",
            "El 4/12/2022 solicitaste un préstamo al consumo por 12000$ por 6 cuotas, has pagado 6000$, te falta pagar otros 6000$\n"
          ]
        }
      ],
      "source": [
        "def chatear():\n",
        "  print(\"Hola\")\n",
        "chat = Chat(pares, mis_reflexions)\n",
        "chat.converse()\n",
        "if __name__ == \"__main__\":\n",
        "  chatear()"
      ]
    },
    {
      "cell_type": "code",
      "source": [
        ""
      ],
      "metadata": {
        "id": "2SFmgv0JEwgp"
      },
      "execution_count": null,
      "outputs": []
    }
  ],
  "metadata": {
    "colab": {
      "collapsed_sections": [],
      "name": "Chatbot.ipynb",
      "provenance": []
    },
    "kernelspec": {
      "display_name": "Python 3",
      "name": "python3"
    },
    "language_info": {
      "name": "python"
    }
  },
  "nbformat": 4,
  "nbformat_minor": 0
}
